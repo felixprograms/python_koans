{
 "cells": [
  {
   "cell_type": "code",
   "execution_count": 1,
   "id": "higher-performance",
   "metadata": {},
   "outputs": [],
   "source": [
    "import numpy as np"
   ]
  },
  {
   "cell_type": "code",
   "execution_count": 2,
   "id": "returning-committee",
   "metadata": {},
   "outputs": [],
   "source": [
    "myarray = np.random.randint(1, 1000, 10)"
   ]
  },
  {
   "cell_type": "code",
   "execution_count": 3,
   "id": "second-seven",
   "metadata": {},
   "outputs": [
    {
     "name": "stdout",
     "output_type": "stream",
     "text": [
      "[960 650 970 989 606 982   1 942  48 335]\n"
     ]
    }
   ],
   "source": [
    "print(myarray)"
   ]
  },
  {
   "cell_type": "code",
   "execution_count": 6,
   "id": "valuable-editor",
   "metadata": {},
   "outputs": [
    {
     "ename": "SyntaxError",
     "evalue": "invalid syntax (<ipython-input-6-295599eff199>, line 4)",
     "output_type": "error",
     "traceback": [
      "\u001b[0;36m  File \u001b[0;32m\"<ipython-input-6-295599eff199>\"\u001b[0;36m, line \u001b[0;32m4\u001b[0m\n\u001b[0;31m    if smallest_number = None or number < smallest_number:\u001b[0m\n\u001b[0m                       ^\u001b[0m\n\u001b[0;31mSyntaxError\u001b[0m\u001b[0;31m:\u001b[0m invalid syntax\n"
     ]
    }
   ],
   "source": [
    "def find_smallest_number(array):\n",
    "    smallest_number = None\n",
    "    for number in array:\n",
    "        if smallest_number == None or number < smallest_number:\n",
    "            smallest_number = number\n",
    "    return smallest_number"
   ]
  },
  {
   "cell_type": "code",
   "execution_count": 5,
   "id": "continental-assurance",
   "metadata": {},
   "outputs": [
    {
     "data": {
      "text/plain": [
       "1"
      ]
     },
     "execution_count": 5,
     "metadata": {},
     "output_type": "execute_result"
    }
   ],
   "source": [
    "find_smallest_number(myarray)"
   ]
  },
  {
   "cell_type": "code",
   "execution_count": null,
   "id": "chronic-result",
   "metadata": {},
   "outputs": [],
   "source": []
  }
 ],
 "metadata": {
  "kernelspec": {
   "display_name": "Python 3",
   "language": "python",
   "name": "python3"
  },
  "language_info": {
   "codemirror_mode": {
    "name": "ipython",
    "version": 3
   },
   "file_extension": ".py",
   "mimetype": "text/x-python",
   "name": "python",
   "nbconvert_exporter": "python",
   "pygments_lexer": "ipython3",
   "version": "3.9.0"
  }
 },
 "nbformat": 4,
 "nbformat_minor": 5
}
